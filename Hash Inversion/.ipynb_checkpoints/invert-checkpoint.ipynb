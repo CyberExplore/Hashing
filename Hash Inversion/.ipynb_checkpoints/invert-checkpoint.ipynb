{
 "cells": [
  {
   "cell_type": "code",
   "execution_count": 14,
   "metadata": {},
   "outputs": [],
   "source": [
    "#imports\n",
    "import requests"
   ]
  },
  {
   "cell_type": "code",
   "execution_count": null,
   "metadata": {},
   "outputs": [],
   "source": [
    "#This is an assignment from my youtube video. First, try for yourself.\n",
    "#watch the youtube video, if you are stuck:\n"
   ]
  },
  {
   "cell_type": "code",
   "execution_count": 15,
   "metadata": {},
   "outputs": [],
   "source": [
    "#fetch creds\n",
    "def fetchCreds():\n",
    "    fin=open(\"creds1.txt\")\n",
    "    creds=fin.readline().strip()\n",
    "    fin.close()\n",
    "    credlist=creds.split(\",\")\n",
    "    email=credlist[0]\n",
    "    api_key=credlist[1]\n",
    "    return email,api_key\n",
    "#fetchCreds()"
   ]
  },
  {
   "cell_type": "code",
   "execution_count": 18,
   "metadata": {},
   "outputs": [],
   "source": [
    "#hash_invert function\n",
    "def invertHash(hash_val,hash_type):\n",
    "    email,api_key=fetchCreds()\n",
    "    baseurl='https://md5decrypt.net/en/Api/api.php'\n",
    "    \n",
    "    #Do it yourself: Define the query containing the hash, hash type, email and the api_key\n",
    "    #Do it yourself: Construct the request string containing the base URL and the query\n",
    "    #Do it yourself: Send the request and receive the response\n",
    "    \n",
    "    if response.status_code==200:\n",
    "        #ok\n",
    "        if response.text!=\"\":\n",
    "            return response.text\n",
    "        else:\n",
    "            return \"Not found in our database\"\n",
    "    else:\n",
    "        return \"Invalid response\"\n",
    "    "
   ]
  },
  {
   "cell_type": "code",
   "execution_count": null,
   "metadata": {},
   "outputs": [],
   "source": [
    "#inputs\n",
    "result=invertHash('f6ceaed4263c3f2e090a6199e8d538320b9a3f95bfd6f0fdbac8d77316eab735','sha256')\n",
    "print(result)"
   ]
  },
  {
   "cell_type": "code",
   "execution_count": null,
   "metadata": {},
   "outputs": [],
   "source": [
    "result=invertHash('0dd3e512642c97ca3f747f9a76e374fbda73f9292823c0313be9d78add7cdd8f72235af0c553dd26797e78e1854edee0ae002f8aba074b066dfce1af114e32f8','sha512')\n",
    "print(result)\n",
    "result=invertHash('b1b3773a05c0ed0176787a4f1574ff0075f7521e','sha1')\n",
    "print(result)\n",
    "result=invertHash('d8578edf8458ce06fbc5bb76a58c5ca4','md5')\n",
    "print(result)\n",
    "result=invertHash('1ab60e110d41a9aac5e30d086c490819bfe3461b38c76b9602fe9686aa0aa3d28c63c96a1019e3788c40a14f4292e50f','sha384')\n",
    "print(result)"
   ]
  },
  {
   "cell_type": "code",
   "execution_count": null,
   "metadata": {},
   "outputs": [],
   "source": []
  }
 ],
 "metadata": {
  "kernelspec": {
   "display_name": "Python 3",
   "language": "python",
   "name": "python3"
  },
  "language_info": {
   "codemirror_mode": {
    "name": "ipython",
    "version": 3
   },
   "file_extension": ".py",
   "mimetype": "text/x-python",
   "name": "python",
   "nbconvert_exporter": "python",
   "pygments_lexer": "ipython3",
   "version": "3.8.3"
  }
 },
 "nbformat": 4,
 "nbformat_minor": 4
}
